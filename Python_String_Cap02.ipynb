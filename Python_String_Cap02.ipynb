{
 "cells": [
  {
   "cell_type": "markdown",
   "id": "e7d98d3d",
   "metadata": {},
   "source": [
    "## String - Cap02 - Pablo Ingnacio M."
   ]
  },
  {
   "cell_type": "code",
   "execution_count": 2,
   "id": "07fda568",
   "metadata": {},
   "outputs": [
    {
     "data": {
      "text/plain": [
       "'ola'"
      ]
     },
     "execution_count": 2,
     "metadata": {},
     "output_type": "execute_result"
    }
   ],
   "source": [
    "# Uma única palavra\n",
    "'ola'"
   ]
  },
  {
   "cell_type": "code",
   "execution_count": 3,
   "id": "3acd5659",
   "metadata": {},
   "outputs": [
    {
     "data": {
      "text/plain": [
       "'curso python'"
      ]
     },
     "execution_count": 3,
     "metadata": {},
     "output_type": "execute_result"
    }
   ],
   "source": [
    "# Uma frase\n",
    "'curso python'"
   ]
  },
  {
   "cell_type": "code",
   "execution_count": 4,
   "id": "f913eda6",
   "metadata": {},
   "outputs": [
    {
     "data": {
      "text/plain": [
       "'Vamos treinar amanhã'"
      ]
     },
     "execution_count": 4,
     "metadata": {},
     "output_type": "execute_result"
    }
   ],
   "source": [
    "# Podemos usar aspas duplas\n",
    "\"Vamos treinar amanhã\""
   ]
  },
  {
   "cell_type": "markdown",
   "id": "0e923c09",
   "metadata": {},
   "source": [
    "## Imprimir uma string"
   ]
  },
  {
   "cell_type": "code",
   "execution_count": 5,
   "id": "9df70f2c",
   "metadata": {},
   "outputs": [
    {
     "name": "stdout",
     "output_type": "stream",
     "text": [
      "testando o curso\n"
     ]
    }
   ],
   "source": [
    "print ('testando o curso')"
   ]
  },
  {
   "cell_type": "code",
   "execution_count": 8,
   "id": "79fdacd9",
   "metadata": {},
   "outputs": [
    {
     "name": "stdout",
     "output_type": "stream",
     "text": [
      "oi \n",
      "teste \n",
      "sol\n"
     ]
    }
   ],
   "source": [
    "print ('oi \\nteste \\nsol')"
   ]
  },
  {
   "cell_type": "markdown",
   "id": "04e50edd",
   "metadata": {},
   "source": [
    "## Indexando Strings"
   ]
  },
  {
   "cell_type": "code",
   "execution_count": 9,
   "id": "baf51224",
   "metadata": {},
   "outputs": [],
   "source": [
    "# Atribuindo uma string\n",
    "s = 'curso de python'"
   ]
  },
  {
   "cell_type": "code",
   "execution_count": 11,
   "id": "3e98db02",
   "metadata": {},
   "outputs": [
    {
     "name": "stdout",
     "output_type": "stream",
     "text": [
      "curso de python\n"
     ]
    }
   ],
   "source": [
    "print(s)"
   ]
  },
  {
   "cell_type": "code",
   "execution_count": 14,
   "id": "1131133d",
   "metadata": {},
   "outputs": [
    {
     "data": {
      "text/plain": [
       "'c'"
      ]
     },
     "execution_count": 14,
     "metadata": {},
     "output_type": "execute_result"
    }
   ],
   "source": [
    "# Primeiro elemento da string.\n",
    "s[0]"
   ]
  },
  {
   "cell_type": "code",
   "execution_count": 16,
   "id": "07006c9e",
   "metadata": {},
   "outputs": [
    {
     "data": {
      "text/plain": [
       "'o'"
      ]
     },
     "execution_count": 16,
     "metadata": {},
     "output_type": "execute_result"
    }
   ],
   "source": [
    "s[4]"
   ]
  },
  {
   "cell_type": "markdown",
   "id": "02afd242",
   "metadata": {},
   "source": [
    "Podemos usar um : para executar um slicing que faz a leitura de tudo até um ponto designado. Por exemplo:"
   ]
  },
  {
   "cell_type": "code",
   "execution_count": 18,
   "id": "8152d74f",
   "metadata": {},
   "outputs": [
    {
     "data": {
      "text/plain": [
       "'urso de python'"
      ]
     },
     "execution_count": 18,
     "metadata": {},
     "output_type": "execute_result"
    }
   ],
   "source": [
    "# Retorna todos os elementos da string, começando pela posição (lembre-se que Python começa a indexação pela posição 0),\n",
    "# até o fim da string.\n",
    "s[1:]"
   ]
  },
  {
   "cell_type": "code",
   "execution_count": 20,
   "id": "a65131d0",
   "metadata": {},
   "outputs": [
    {
     "data": {
      "text/plain": [
       "'curso de python'"
      ]
     },
     "execution_count": 20,
     "metadata": {},
     "output_type": "execute_result"
    }
   ],
   "source": [
    "# A string original permanece inalterada\n",
    "s"
   ]
  },
  {
   "cell_type": "code",
   "execution_count": 23,
   "id": "5284bd6f",
   "metadata": {},
   "outputs": [
    {
     "data": {
      "text/plain": [
       "'cur'"
      ]
     },
     "execution_count": 23,
     "metadata": {},
     "output_type": "execute_result"
    }
   ],
   "source": [
    "# Retorna tudo até a posição 3\n",
    "s[:3]"
   ]
  },
  {
   "cell_type": "code",
   "execution_count": 24,
   "id": "34bce189",
   "metadata": {},
   "outputs": [
    {
     "data": {
      "text/plain": [
       "'curso de python'"
      ]
     },
     "execution_count": 24,
     "metadata": {},
     "output_type": "execute_result"
    }
   ],
   "source": [
    "s[:]"
   ]
  },
  {
   "cell_type": "code",
   "execution_count": 26,
   "id": "be3056d4",
   "metadata": {},
   "outputs": [
    {
     "data": {
      "text/plain": [
       "'n'"
      ]
     },
     "execution_count": 26,
     "metadata": {},
     "output_type": "execute_result"
    }
   ],
   "source": [
    "# Nós também podemos usar a indexação negativa e ler de trás para frente.\n",
    "s[-1]"
   ]
  },
  {
   "cell_type": "code",
   "execution_count": 28,
   "id": "ae816faf",
   "metadata": {},
   "outputs": [
    {
     "data": {
      "text/plain": [
       "'curso de pytho'"
      ]
     },
     "execution_count": 28,
     "metadata": {},
     "output_type": "execute_result"
    }
   ],
   "source": [
    "# Retornar tudo, exceto a última letra\n",
    "s[:-1]"
   ]
  },
  {
   "cell_type": "markdown",
   "id": "79402dac",
   "metadata": {},
   "source": [
    "Nós também podemos usar a notação de índice e fatiar a string em pedaços específicos (o padrão é 1). Por exemplo, podemos usar dois pontos duas vezes em uma linha e, em seguida, um número que especifica a frequência para retornar elementos. Por exemplo:"
   ]
  },
  {
   "cell_type": "code",
   "execution_count": 29,
   "id": "e9a737a1",
   "metadata": {},
   "outputs": [
    {
     "data": {
      "text/plain": [
       "'curso de python'"
      ]
     },
     "execution_count": 29,
     "metadata": {},
     "output_type": "execute_result"
    }
   ],
   "source": [
    "s[::1]"
   ]
  },
  {
   "cell_type": "code",
   "execution_count": 30,
   "id": "3dccbb48",
   "metadata": {},
   "outputs": [
    {
     "data": {
      "text/plain": [
       "'crod yhn'"
      ]
     },
     "execution_count": 30,
     "metadata": {},
     "output_type": "execute_result"
    }
   ],
   "source": [
    "s[::2]"
   ]
  },
  {
   "cell_type": "code",
   "execution_count": 31,
   "id": "40a11751",
   "metadata": {},
   "outputs": [
    {
     "data": {
      "text/plain": [
       "'nohtyp ed osruc'"
      ]
     },
     "execution_count": 31,
     "metadata": {},
     "output_type": "execute_result"
    }
   ],
   "source": [
    "s[::-1]"
   ]
  },
  {
   "cell_type": "markdown",
   "id": "fe996df5",
   "metadata": {},
   "source": [
    "Propriedades de Strings"
   ]
  },
  {
   "cell_type": "code",
   "execution_count": 32,
   "id": "3f63f681",
   "metadata": {},
   "outputs": [
    {
     "data": {
      "text/plain": [
       "'curso de python'"
      ]
     },
     "execution_count": 32,
     "metadata": {},
     "output_type": "execute_result"
    }
   ],
   "source": [
    "s"
   ]
  },
  {
   "cell_type": "code",
   "execution_count": 33,
   "id": "99201395",
   "metadata": {},
   "outputs": [
    {
     "ename": "TypeError",
     "evalue": "'str' object does not support item assignment",
     "output_type": "error",
     "traceback": [
      "\u001b[1;31m---------------------------------------------------------------------------\u001b[0m",
      "\u001b[1;31mTypeError\u001b[0m                                 Traceback (most recent call last)",
      "\u001b[1;32m~\\AppData\\Local\\Temp/ipykernel_15144/2237496390.py\u001b[0m in \u001b[0;36m<module>\u001b[1;34m\u001b[0m\n\u001b[0;32m      1\u001b[0m \u001b[1;31m# Alterando um caracter\u001b[0m\u001b[1;33m\u001b[0m\u001b[1;33m\u001b[0m\u001b[0m\n\u001b[1;32m----> 2\u001b[1;33m \u001b[0ms\u001b[0m\u001b[1;33m[\u001b[0m\u001b[1;36m0\u001b[0m\u001b[1;33m]\u001b[0m \u001b[1;33m=\u001b[0m \u001b[1;34m't'\u001b[0m\u001b[1;33m\u001b[0m\u001b[1;33m\u001b[0m\u001b[0m\n\u001b[0m",
      "\u001b[1;31mTypeError\u001b[0m: 'str' object does not support item assignment"
     ]
    }
   ],
   "source": [
    "# Alterando um caracter\n",
    "s[0] = 't'"
   ]
  },
  {
   "cell_type": "code",
   "execution_count": 35,
   "id": "0e4f4ae3",
   "metadata": {},
   "outputs": [
    {
     "data": {
      "text/plain": [
       "'curso de python meu treinamento'"
      ]
     },
     "execution_count": 35,
     "metadata": {},
     "output_type": "execute_result"
    }
   ],
   "source": [
    "# Concatenando strings\n",
    "s + ' meu treinamento'"
   ]
  },
  {
   "cell_type": "code",
   "execution_count": 38,
   "id": "c27f08b6",
   "metadata": {},
   "outputs": [],
   "source": [
    "s = s + ' meu treinamento'"
   ]
  },
  {
   "cell_type": "code",
   "execution_count": 39,
   "id": "0770c798",
   "metadata": {},
   "outputs": [
    {
     "name": "stdout",
     "output_type": "stream",
     "text": [
      "curso de python meu treinamento meu treinamento\n"
     ]
    }
   ],
   "source": [
    "print(s)"
   ]
  },
  {
   "cell_type": "code",
   "execution_count": 40,
   "id": "5dd0c3ab",
   "metadata": {},
   "outputs": [],
   "source": [
    "# Podemos usar o símbolo de multiplicação para criar repetição!\n",
    "letra = 'P'"
   ]
  },
  {
   "cell_type": "code",
   "execution_count": 41,
   "id": "f8f396f9",
   "metadata": {},
   "outputs": [
    {
     "data": {
      "text/plain": [
       "'PPPP'"
      ]
     },
     "execution_count": 41,
     "metadata": {},
     "output_type": "execute_result"
    }
   ],
   "source": [
    "letra * 4"
   ]
  },
  {
   "cell_type": "markdown",
   "id": "b9579d9f",
   "metadata": {},
   "source": [
    "## Funções Built-in de Strings"
   ]
  },
  {
   "cell_type": "code",
   "execution_count": 42,
   "id": "9f27afd3",
   "metadata": {},
   "outputs": [
    {
     "data": {
      "text/plain": [
       "'curso de python meu treinamento meu treinamento'"
      ]
     },
     "execution_count": 42,
     "metadata": {},
     "output_type": "execute_result"
    }
   ],
   "source": [
    "s"
   ]
  },
  {
   "cell_type": "code",
   "execution_count": 43,
   "id": "2508f55d",
   "metadata": {},
   "outputs": [
    {
     "data": {
      "text/plain": [
       "'CURSO DE PYTHON MEU TREINAMENTO MEU TREINAMENTO'"
      ]
     },
     "execution_count": 43,
     "metadata": {},
     "output_type": "execute_result"
    }
   ],
   "source": [
    "# Upper Case\n",
    "s.upper()"
   ]
  },
  {
   "cell_type": "code",
   "execution_count": 44,
   "id": "d0f847f6",
   "metadata": {},
   "outputs": [
    {
     "data": {
      "text/plain": [
       "'curso de python meu treinamento meu treinamento'"
      ]
     },
     "execution_count": 44,
     "metadata": {},
     "output_type": "execute_result"
    }
   ],
   "source": [
    "# Lower case\n",
    "s.lower()"
   ]
  },
  {
   "cell_type": "code",
   "execution_count": 46,
   "id": "b860c95e",
   "metadata": {},
   "outputs": [
    {
     "data": {
      "text/plain": [
       "['curso', 'de', 'python', 'meu', 'treinamento', 'meu', 'treinamento']"
      ]
     },
     "execution_count": 46,
     "metadata": {},
     "output_type": "execute_result"
    }
   ],
   "source": [
    "# Dividir uma string por espaços em branco (padrão)\n",
    "s.split()"
   ]
  },
  {
   "cell_type": "code",
   "execution_count": 47,
   "id": "8eb7c9ab",
   "metadata": {},
   "outputs": [
    {
     "data": {
      "text/plain": [
       "['curso de p', 'thon meu treinamento meu treinamento']"
      ]
     },
     "execution_count": 47,
     "metadata": {},
     "output_type": "execute_result"
    }
   ],
   "source": [
    "# Dividir uma string por um elemento específico\n",
    "s.split('y')"
   ]
  },
  {
   "cell_type": "markdown",
   "id": "3c48872b",
   "metadata": {},
   "source": [
    "Funções String"
   ]
  },
  {
   "cell_type": "code",
   "execution_count": 56,
   "id": "a2428f18",
   "metadata": {},
   "outputs": [],
   "source": [
    "s = 'Bem vindos ao curso de Python'"
   ]
  },
  {
   "cell_type": "code",
   "execution_count": 57,
   "id": "ba2adf7a",
   "metadata": {},
   "outputs": [
    {
     "data": {
      "text/plain": [
       "'Bem vindos ao curso de python'"
      ]
     },
     "execution_count": 57,
     "metadata": {},
     "output_type": "execute_result"
    }
   ],
   "source": [
    "s.capitalize()"
   ]
  },
  {
   "cell_type": "code",
   "execution_count": 58,
   "id": "729d1665",
   "metadata": {},
   "outputs": [
    {
     "data": {
      "text/plain": [
       "1"
      ]
     },
     "execution_count": 58,
     "metadata": {},
     "output_type": "execute_result"
    }
   ],
   "source": [
    "s.count('a')"
   ]
  },
  {
   "cell_type": "code",
   "execution_count": 59,
   "id": "947320f7",
   "metadata": {},
   "outputs": [
    {
     "data": {
      "text/plain": [
       "-1"
      ]
     },
     "execution_count": 59,
     "metadata": {},
     "output_type": "execute_result"
    }
   ],
   "source": [
    "s.find('p')"
   ]
  },
  {
   "cell_type": "code",
   "execution_count": 60,
   "id": "d3d8e81b",
   "metadata": {},
   "outputs": [
    {
     "data": {
      "text/plain": [
       "'Bem vindos ao curso de Python'"
      ]
     },
     "execution_count": 60,
     "metadata": {},
     "output_type": "execute_result"
    }
   ],
   "source": [
    "s.center(5, 'T')"
   ]
  },
  {
   "cell_type": "code",
   "execution_count": 61,
   "id": "479383b9",
   "metadata": {},
   "outputs": [
    {
     "data": {
      "text/plain": [
       "False"
      ]
     },
     "execution_count": 61,
     "metadata": {},
     "output_type": "execute_result"
    }
   ],
   "source": [
    "s.isalnum()"
   ]
  },
  {
   "cell_type": "code",
   "execution_count": 62,
   "id": "6da07b8e",
   "metadata": {},
   "outputs": [
    {
     "data": {
      "text/plain": [
       "False"
      ]
     },
     "execution_count": 62,
     "metadata": {},
     "output_type": "execute_result"
    }
   ],
   "source": [
    "s.isalpha()"
   ]
  },
  {
   "cell_type": "code",
   "execution_count": 63,
   "id": "bd0db8fb",
   "metadata": {},
   "outputs": [
    {
     "data": {
      "text/plain": [
       "False"
      ]
     },
     "execution_count": 63,
     "metadata": {},
     "output_type": "execute_result"
    }
   ],
   "source": [
    "s.islower()"
   ]
  },
  {
   "cell_type": "code",
   "execution_count": 64,
   "id": "3e6af41a",
   "metadata": {},
   "outputs": [
    {
     "data": {
      "text/plain": [
       "False"
      ]
     },
     "execution_count": 64,
     "metadata": {},
     "output_type": "execute_result"
    }
   ],
   "source": [
    "s.isspace()"
   ]
  },
  {
   "cell_type": "code",
   "execution_count": 65,
   "id": "442704a6",
   "metadata": {},
   "outputs": [
    {
     "data": {
      "text/plain": [
       "False"
      ]
     },
     "execution_count": 65,
     "metadata": {},
     "output_type": "execute_result"
    }
   ],
   "source": [
    "s.endswith('o')"
   ]
  },
  {
   "cell_type": "code",
   "execution_count": 66,
   "id": "c9f1962b",
   "metadata": {},
   "outputs": [
    {
     "data": {
      "text/plain": [
       "('Bem vindos ao curso de Python', '', '')"
      ]
     },
     "execution_count": 66,
     "metadata": {},
     "output_type": "execute_result"
    }
   ],
   "source": [
    "s.partition('!')"
   ]
  },
  {
   "cell_type": "markdown",
   "id": "8df5d8ba",
   "metadata": {},
   "source": [
    "## Comparando Strings"
   ]
  },
  {
   "cell_type": "code",
   "execution_count": 68,
   "id": "3069a97d",
   "metadata": {},
   "outputs": [
    {
     "name": "stdout",
     "output_type": "stream",
     "text": [
      "Python\n"
     ]
    },
    {
     "data": {
      "text/plain": [
       "False"
      ]
     },
     "execution_count": 68,
     "metadata": {},
     "output_type": "execute_result"
    }
   ],
   "source": [
    "print (\"Python\") == \"R\""
   ]
  },
  {
   "cell_type": "code",
   "execution_count": 69,
   "id": "3055c6a1",
   "metadata": {},
   "outputs": [
    {
     "name": "stdout",
     "output_type": "stream",
     "text": [
      "True\n"
     ]
    }
   ],
   "source": [
    "print(\"Python\" == \"Python\")"
   ]
  },
  {
   "cell_type": "markdown",
   "id": "308b97c4",
   "metadata": {},
   "source": [
    "## FIM"
   ]
  }
 ],
 "metadata": {
  "kernelspec": {
   "display_name": "Python 3 (ipykernel)",
   "language": "python",
   "name": "python3"
  },
  "language_info": {
   "codemirror_mode": {
    "name": "ipython",
    "version": 3
   },
   "file_extension": ".py",
   "mimetype": "text/x-python",
   "name": "python",
   "nbconvert_exporter": "python",
   "pygments_lexer": "ipython3",
   "version": "3.9.7"
  }
 },
 "nbformat": 4,
 "nbformat_minor": 5
}
